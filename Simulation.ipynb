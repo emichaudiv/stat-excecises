{
 "cells": [
  {
   "cell_type": "code",
   "execution_count": 1,
   "id": "05b6998f",
   "metadata": {},
   "outputs": [],
   "source": [
    "%matplotlib inline\n",
    "import numpy as np\n",
    "import pandas as pd\n",
    "np.random.seed(29)"
   ]
  },
  {
   "cell_type": "code",
   "execution_count": 104,
   "id": "7e0e88a1",
   "metadata": {},
   "outputs": [],
   "source": [
    "ntrials=10000\n",
    "nrows=10000"
   ]
  },
  {
   "cell_type": "code",
   "execution_count": 103,
   "id": "3c97b8d7",
   "metadata": {},
   "outputs": [
    {
     "data": {
      "text/plain": [
       "0.1648"
      ]
     },
     "execution_count": 103,
     "metadata": {},
     "output_type": "execute_result"
    }
   ],
   "source": [
    "outcomes = [1,2,3,4,5,6]\n",
    "rolls =np.random.choice(outcomes,size = (10000,2))\n",
    "rolls_df = pd.DataFrame(rolls)\n",
    "(rolls_df[0] == rolls_df[1]).mean()"
   ]
  },
  {
   "cell_type": "code",
   "execution_count": 112,
   "id": "7fc6b292",
   "metadata": {},
   "outputs": [
    {
     "data": {
      "text/plain": [
       "0.2227"
      ]
     },
     "execution_count": 112,
     "metadata": {},
     "output_type": "execute_result"
    }
   ],
   "source": [
    "coins = 8\n",
    "\n",
    "coin = np.random.choice(['T','H'],ntrials * coins).reshape(ntrials,coins)\n",
    "coindf = pd.DataFrame(coin)\n",
    "numcoins = coindf.apply(pd.value_counts, axis=1)\n",
    "(numcoins.H == 3).mean()"
   ]
  },
  {
   "cell_type": "code",
   "execution_count": 113,
   "id": "94c0cd42",
   "metadata": {},
   "outputs": [
    {
     "data": {
      "text/plain": [
       "0.6314"
      ]
     },
     "execution_count": 113,
     "metadata": {},
     "output_type": "execute_result"
    }
   ],
   "source": [
    "(numcoins.H > 3).mean()"
   ]
  },
  {
   "cell_type": "code",
   "execution_count": 118,
   "id": "866c729f",
   "metadata": {},
   "outputs": [
    {
     "data": {
      "text/plain": [
       "0.0614"
      ]
     },
     "execution_count": 118,
     "metadata": {},
     "output_type": "execute_result"
    }
   ],
   "source": [
    "webd = .75\n",
    "ds = .25\n",
    "cols = 2\n",
    "\n",
    "cohorts = np.random.choice(['WD',\"WD\",\"WD\",\"DS\"],size = (ntrials,cols))\n",
    "cdata = cohorts == \"DS\"\n",
    "success = cdata.sum(axis =1)==2\n",
    "success.mean()"
   ]
  },
  {
   "cell_type": "code",
   "execution_count": 60,
   "id": "f9544807",
   "metadata": {},
   "outputs": [
    {
     "data": {
      "text/plain": [
       "array([[1.12090051, 3.13941239, 5.25320179, 3.79720483, 5.32175627],\n",
       "       [1.46847466, 3.4966166 , 5.76840759, 2.39816124, 4.2120235 ],\n",
       "       [3.50719554, 1.82892437, 3.54646936, 2.67310401, 2.69409454],\n",
       "       [1.30459068, 4.30591981, 1.93564727, 2.90300463, 4.6385189 ],\n",
       "       [2.11346253, 2.15669483, 3.72802414, 3.70754715, 1.89180494]])"
      ]
     },
     "execution_count": 60,
     "metadata": {},
     "output_type": "execute_result"
    }
   ],
   "source": [
    "pttotal=17\n",
    "nsimulation=5\n",
    "pt = np.random.normal(3,1.5,size = (nsimulation,5))\n",
    "pt\n",
    "#"
   ]
  },
  {
   "cell_type": "code",
   "execution_count": 63,
   "id": "753e47fd",
   "metadata": {},
   "outputs": [
    {
     "data": {
      "text/plain": [
       "array([18.63247578, 17.34368359, 14.24978782, 15.0876813 , 13.59753358])"
      ]
     },
     "execution_count": 63,
     "metadata": {},
     "output_type": "execute_result"
    }
   ],
   "source": [
    "week = pt.sum(axis=1)\n",
    "week"
   ]
  },
  {
   "cell_type": "code",
   "execution_count": 120,
   "id": "7b296ef7",
   "metadata": {},
   "outputs": [
    {
     "data": {
      "text/plain": [
       "0.4"
      ]
     },
     "execution_count": 120,
     "metadata": {},
     "output_type": "execute_result"
    }
   ],
   "source": [
    "(week >=17).mean()"
   ]
  },
  {
   "cell_type": "code",
   "execution_count": 67,
   "id": "99644c65",
   "metadata": {},
   "outputs": [],
   "source": [
    "mh = np.random.normal(178,8, size = (nsimulation,5))\n",
    "wh = np.random.normal(170,6, size = (nsimulation,5))"
   ]
  },
  {
   "cell_type": "code",
   "execution_count": 122,
   "id": "ce8597fa",
   "metadata": {},
   "outputs": [
    {
     "data": {
      "text/plain": [
       "0.2"
      ]
     },
     "execution_count": 122,
     "metadata": {},
     "output_type": "execute_result"
    }
   ],
   "source": [
    "(wh>mh).mean()"
   ]
  },
  {
   "cell_type": "code",
   "execution_count": 125,
   "id": "b917b9bf",
   "metadata": {},
   "outputs": [],
   "source": [
    "outcome = ['S','F']\n",
    "students = 50"
   ]
  },
  {
   "cell_type": "code",
   "execution_count": 131,
   "id": "e410ca56",
   "metadata": {},
   "outputs": [
    {
     "data": {
      "text/plain": [
       "0.8181"
      ]
     },
     "execution_count": 131,
     "metadata": {},
     "output_type": "execute_result"
    }
   ],
   "source": [
    "downloads = np.random.choice(outcome,size = (ntrials, students),p=[249/250,1/250])\n",
    "((downloads=='S').sum(axis=1)==50).mean()"
   ]
  },
  {
   "cell_type": "code",
   "execution_count": 132,
   "id": "bb1065f1",
   "metadata": {},
   "outputs": [
    {
     "data": {
      "text/plain": [
       "0.0"
      ]
     },
     "execution_count": 132,
     "metadata": {},
     "output_type": "execute_result"
    }
   ],
   "source": [
    "((downloads=='S').sum(axis=1)==100).mean()"
   ]
  },
  {
   "cell_type": "code",
   "execution_count": 140,
   "id": "79f03801",
   "metadata": {},
   "outputs": [
    {
     "data": {
      "text/plain": [
       "1.0"
      ]
     },
     "execution_count": 140,
     "metadata": {},
     "output_type": "execute_result"
    }
   ],
   "source": [
    "(bools.sum(axis=(1))<150).mean()"
   ]
  },
  {
   "cell_type": "code",
   "execution_count": 141,
   "id": "1d331596",
   "metadata": {},
   "outputs": [
    {
     "data": {
      "text/plain": [
       "0.0"
      ]
     },
     "execution_count": 141,
     "metadata": {},
     "output_type": "execute_result"
    }
   ],
   "source": [
    "(bools.sum(axis=(1))==450).mean()"
   ]
  },
  {
   "cell_type": "code",
   "execution_count": 143,
   "id": "e9b9ee45",
   "metadata": {},
   "outputs": [],
   "source": [
    "trucks = np.random.choice([0,1],size = (ntrials,3),p =[.3,.7])"
   ]
  },
  {
   "cell_type": "code",
   "execution_count": 145,
   "id": "ca59d3f1",
   "metadata": {},
   "outputs": [
    {
     "data": {
      "text/plain": [
       "0.0264"
      ]
     },
     "execution_count": 145,
     "metadata": {},
     "output_type": "execute_result"
    }
   ],
   "source": [
    "(trucks.sum(axis=1)==0).mean()"
   ]
  },
  {
   "cell_type": "code",
   "execution_count": 146,
   "id": "0459c359",
   "metadata": {},
   "outputs": [
    {
     "data": {
      "text/plain": [
       "0.9736"
      ]
     },
     "execution_count": 146,
     "metadata": {},
     "output_type": "execute_result"
    }
   ],
   "source": [
    "(trucks.sum(axis=1)>=1).mean()"
   ]
  },
  {
   "cell_type": "code",
   "execution_count": 148,
   "id": "bdcb7cea",
   "metadata": {},
   "outputs": [
    {
     "data": {
      "text/plain": [
       "1.0"
      ]
     },
     "execution_count": 148,
     "metadata": {},
     "output_type": "execute_result"
    }
   ],
   "source": [
    "weektruck = np.random.choice([0,1],size = (ntrials,8),p =[.3,.7])\n",
    "(weektruck.sum(axis=1)>0).mean()"
   ]
  },
  {
   "cell_type": "code",
   "execution_count": 149,
   "id": "918b2652",
   "metadata": {},
   "outputs": [],
   "source": [
    "bith = range(0,366)\n",
    "stu=23"
   ]
  },
  {
   "cell_type": "code",
   "execution_count": 150,
   "id": "0cc25918",
   "metadata": {},
   "outputs": [],
   "source": [
    "birthday = np.random.choice(bith,size = (ntrials,23))"
   ]
  },
  {
   "cell_type": "code",
   "execution_count": 151,
   "id": "7ee20655",
   "metadata": {},
   "outputs": [
    {
     "data": {
      "text/plain": [
       "array([[ 29,  95, 315, ..., 233,  40, 352],\n",
       "       [270, 112, 232, ..., 120, 225, 270],\n",
       "       [361, 224,  51, ...,  89, 250, 193],\n",
       "       ...,\n",
       "       [107,   8,  31, ..., 362, 228,  40],\n",
       "       [237, 228, 242, ...,  27,  84, 256],\n",
       "       [279, 255, 180, ..., 250, 253,  48]])"
      ]
     },
     "execution_count": 151,
     "metadata": {},
     "output_type": "execute_result"
    }
   ],
   "source": [
    "birthday"
   ]
  },
  {
   "cell_type": "code",
   "execution_count": 152,
   "id": "a1bbdccb",
   "metadata": {},
   "outputs": [],
   "source": [
    "birthdaydf = pd.DataFrame(birthday)"
   ]
  },
  {
   "cell_type": "code",
   "execution_count": 155,
   "id": "cdd5b547",
   "metadata": {
    "scrolled": false
   },
   "outputs": [
    {
     "data": {
      "text/plain": [
       "0.5119"
      ]
     },
     "execution_count": 155,
     "metadata": {},
     "output_type": "execute_result"
    }
   ],
   "source": [
    "(birthdaydf.nunique(axis=1) <23).mean()"
   ]
  },
  {
   "cell_type": "code",
   "execution_count": 157,
   "id": "ab8e57f8",
   "metadata": {},
   "outputs": [],
   "source": [
    "birthday = np.random.choice(bith,size = (ntrials,40))"
   ]
  },
  {
   "cell_type": "code",
   "execution_count": 160,
   "id": "236b83d8",
   "metadata": {
    "scrolled": true
   },
   "outputs": [
    {
     "data": {
      "text/plain": [
       "1.0"
      ]
     },
     "execution_count": 160,
     "metadata": {},
     "output_type": "execute_result"
    }
   ],
   "source": [
    "(birthdaydf.nunique(axis=1) <40).mean()"
   ]
  },
  {
   "cell_type": "code",
   "execution_count": null,
   "id": "14ff78d3",
   "metadata": {},
   "outputs": [],
   "source": []
  }
 ],
 "metadata": {
  "kernelspec": {
   "display_name": "Python 3 (ipykernel)",
   "language": "python",
   "name": "python3"
  },
  "language_info": {
   "codemirror_mode": {
    "name": "ipython",
    "version": 3
   },
   "file_extension": ".py",
   "mimetype": "text/x-python",
   "name": "python",
   "nbconvert_exporter": "python",
   "pygments_lexer": "ipython3",
   "version": "3.9.13"
  }
 },
 "nbformat": 4,
 "nbformat_minor": 5
}
